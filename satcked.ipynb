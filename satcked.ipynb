{
 "cells": [
  {
   "cell_type": "code",
   "execution_count": 2,
   "metadata": {},
   "outputs": [],
   "source": [
    "def train_Bi_LSTM(X, Y, epochs = 30, validation_split = 0.2, patience=20):\n",
    "    speed_input = Input(shape = (X.shape[1], X.shape[2]), name = 'speed')\n",
    "    \n",
    "    main_output = Bidirectional(LSTM(input_shape = (X.shape[1], X.shape[2]), output_dim = X.shape[2], return_sequences=False), merge_mode='ave')(speed_input)\n",
    "    \n",
    "    final_model = Model(input = [speed_input], output = [main_output])\n",
    "    \n",
    "    final_model.summary()\n",
    "    \n",
    "    final_model.compile(loss='mse', optimizer='rmsprop')\n",
    "    \n",
    "    history = LossHistory()\n",
    "    earlyStopping = EarlyStopping(monitor='val_loss', min_delta=0.00001, patience=patience, verbose=0, mode='auto')\n",
    "    final_model.fit([X], Y, validation_split = 0.2, nb_epoch = epochs, callbacks=[history, earlyStopping])\n",
    "    \n",
    "    return final_model, history"
   ]
  },
  {
   "cell_type": "code",
   "execution_count": 1,
   "metadata": {},
   "outputs": [],
   "source": [
    "def train_2_Bi_LSTM_mask(X, Y, epochs = 30, validation_split = 0.2, patience=20):\n",
    "    \n",
    "    model = Sequential()\n",
    "    model.add(Masking(mask_value=0.,input_shape=(X.shape[1], X.shape[2])))\n",
    "    model.add(LSTM(output_dim = X.shape[2], return_sequences=True, input_shape = (X.shape[1], X.shape[2])))\n",
    "    model.add(LSTM(output_dim = X.shape[2], return_sequences=False, input_shape = (X.shape[1], X.shape[2])))\n",
    "\n",
    "    model.add(Dense(X.shape[2]))\n",
    "    model.compile(loss='mse', optimizer='rmsprop')\n",
    "\n",
    "    history = LossHistory()\n",
    "    earlyStopping = EarlyStopping(monitor='val_loss', min_delta=0.00001, patience=patience, verbose=0, mode='auto')\n",
    "    model.fit(X, Y, validation_split = 0.2, nb_epoch = epochs, callbacks=[history, earlyStopping])\n",
    "\n",
    "    return model, history\n",
    "\n",
    "def train_2_Bi_LSTM(X, Y, epochs = 30, validation_split = 0.2, patience=20):\n",
    "    speed_input = Input(shape = (X.shape[1], X.shape[2]), name = 'speed')\n",
    "    \n",
    "    lstm_output = Bidirectional(LSTM(input_shape = (X.shape[1], X.shape[2]), output_dim = X.shape[2], return_sequences=True), merge_mode='ave')(speed_input)\n",
    "    \n",
    "    main_output = LSTM(input_shape = (X.shape[1], X.shape[2]), output_dim = X.shape[2])(lstm_output)\n",
    "    \n",
    "    final_model = Model(input = [speed_input], output = [main_output])\n",
    "    \n",
    "    final_model.summary()\n",
    "    \n",
    "    final_model.compile(loss='mse', optimizer='rmsprop')\n",
    "    \n",
    "    history = LossHistory()\n",
    "    earlyStopping = EarlyStopping(monitor='val_loss', min_delta=0.00001, patience=patience, verbose=0, mode='auto')\n",
    "    final_model.fit([X], Y, validation_split = 0.2, nb_epoch = epochs, callbacks=[history, earlyStopping])\n",
    "    \n",
    "    return final_model, history"
   ]
  },
  {
   "cell_type": "code",
   "execution_count": null,
   "metadata": {},
   "outputs": [],
   "source": []
  }
 ],
 "metadata": {
  "kernelspec": {
   "display_name": "Python 3",
   "language": "python",
   "name": "python3"
  },
  "language_info": {
   "codemirror_mode": {
    "name": "ipython",
    "version": 3
   },
   "file_extension": ".py",
   "mimetype": "text/x-python",
   "name": "python",
   "nbconvert_exporter": "python",
   "pygments_lexer": "ipython3",
   "version": "3.7.3"
  }
 },
 "nbformat": 4,
 "nbformat_minor": 2
}
